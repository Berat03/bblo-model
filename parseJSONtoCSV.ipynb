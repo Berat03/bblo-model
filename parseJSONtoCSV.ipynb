{
 "cells": [
  {
   "cell_type": "markdown",
   "metadata": {
    "collapsed": false
   },
   "source": [
    "# Data Formatting"
   ]
  },
  {
   "cell_type": "code",
   "execution_count": 6,
   "metadata": {
    "collapsed": false
   },
   "outputs": [],
   "source": [
    "import pandas as pd\n",
    "import numpy as np\n",
    "import json\n",
    "pd.set_option('display.max_colwidth', None)\n",
    "pd.set_option('display.max_columns', None)"
   ]
  },
  {
   "cell_type": "code",
   "execution_count": 7,
   "metadata": {
    "collapsed": false
   },
   "outputs": [],
   "source": [
    "# Read the JSON file with 'lines=True'\n",
    "with open('./data/bbloData.json', 'r') as f:\n",
    "    data = [json.loads(line) for line in f]"
   ]
  },
  {
   "cell_type": "code",
   "execution_count": 8,
   "metadata": {
    "collapsed": false
   },
   "outputs": [
    {
     "name": "stdout",
     "output_type": "stream",
     "text": [
      "              Date   Time   Total  lvl1nswe  lvl2e  lvl3e  lvl3nsw  lvl4e  \\\n",
      "0       2024-06-30  00:00  1800.0     388.0  172.0  143.0    426.0  152.0   \n",
      "1       2024-06-30  00:01  1800.0     388.0  172.0  143.0    426.0  152.0   \n",
      "2       2024-06-30  00:02  1800.0     388.0  172.0  143.0    426.0  152.0   \n",
      "3       2024-06-30  00:03  1800.0     388.0  172.0  143.0    426.0  152.0   \n",
      "4       2024-06-30  00:04  1800.0     388.0  172.0  143.0    426.0  152.0   \n",
      "...            ...    ...     ...       ...    ...    ...      ...    ...   \n",
      "660171  2024-09-01  23:55  1800.0     373.0  170.0  143.0    422.0  150.0   \n",
      "660172  2024-09-01  23:56  1800.0     373.0  170.0  143.0    422.0  150.0   \n",
      "660173  2024-09-01  23:57  1800.0     373.0  170.0  143.0    422.0  150.0   \n",
      "660174  2024-09-01  23:58  1800.0     373.0  170.0  143.0    422.0  150.0   \n",
      "660175  2024-09-01  23:59  1800.0     373.0  170.0  143.0    422.0  150.0   \n",
      "\n",
      "        lvl4nsw  \n",
      "0         356.0  \n",
      "1         356.0  \n",
      "2         356.0  \n",
      "3         356.0  \n",
      "4         356.0  \n",
      "...         ...  \n",
      "660171    356.0  \n",
      "660172    356.0  \n",
      "660173    356.0  \n",
      "660174    356.0  \n",
      "660175    356.0  \n",
      "\n",
      "[660176 rows x 9 columns]\n"
     ]
    }
   ],
   "source": [
    "# Create a list of dictionaries with the desired structure\n",
    "records = []\n",
    "for item in data:\n",
    "    curr_item = item['Item']\n",
    "    \n",
    "    # Helper function to extract values, defaulting to None if not present\n",
    "    def get_value(field):\n",
    "        if field in curr_item and 'S' in curr_item[field]:\n",
    "            if field == 'Date' or field == 'Time':\n",
    "                return curr_item[field]['S']  # Return as string for Date and Time\n",
    "            elif field == 'Total':\n",
    "                # Remove commas and convert to int\n",
    "                return int(curr_item[field]['S'].replace(',', ''))\n",
    "            else:\n",
    "                return int(curr_item[field]['S'])  # Convert to int for numeric fields\n",
    "        return None  # Default value for missing or NULL fields\n",
    "\n",
    "    # Append processed record\n",
    "    records.append({\n",
    "        'Date': get_value('Date'),\n",
    "        'Time': get_value('Time'),\n",
    "        'Total': get_value('Total'),\n",
    "        'lvl1nswe': get_value('lvl1nswe'),\n",
    "        'lvl2e': get_value('lvl2e'),\n",
    "        'lvl3e': get_value('lvl3e'),\n",
    "        'lvl3nsw': get_value('lvl3nsw'),\n",
    "        'lvl4e': get_value('lvl4e'),\n",
    "        'lvl4nsw': get_value('lvl4nsw'),\n",
    "    })\n",
    "\n",
    "# Convert the list of dictionaries to a pandas DataFrame\n",
    "df = pd.DataFrame(records)\n",
    "\n",
    "# Display the DataFrame\n",
    "print(df)\n",
    "\n",
    "# Optionally save the DataFrame for later use\n",
    "df.to_csv('./cleanedData.csv', index=False)  # Save to CSV\n"
   ]
  },
  {
   "cell_type": "code",
   "execution_count": null,
   "metadata": {
    "collapsed": false
   },
   "outputs": [],
   "source": []
  }
 ],
 "metadata": {
  "kernelspec": {
   "display_name": ".venv",
   "language": "python",
   "name": "python3"
  },
  "language_info": {
   "codemirror_mode": {
    "name": "ipython",
    "version": 3
   },
   "file_extension": ".py",
   "mimetype": "text/x-python",
   "name": "python",
   "nbconvert_exporter": "python",
   "pygments_lexer": "ipython3",
   "version": "3.9.6"
  }
 },
 "nbformat": 4,
 "nbformat_minor": 0
}
